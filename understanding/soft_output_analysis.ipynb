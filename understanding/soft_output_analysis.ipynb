{
 "cells": [
  {
   "cell_type": "code",
   "execution_count": null,
   "metadata": {
    "ExecuteTime": {
     "end_time": "2021-03-24T16:27:50.487352Z",
     "start_time": "2021-03-24T16:27:50.483913Z"
    }
   },
   "outputs": [],
   "source": [
    "import os\n",
    "import sys\n",
    "module_path = os.path.abspath(os.path.join(\"..\"))\n",
    "if module_path not in sys.path:\n",
    "    sys.path.append(module_path)"
   ]
  },
  {
   "cell_type": "code",
   "execution_count": null,
   "metadata": {
    "ExecuteTime": {
     "end_time": "2021-03-24T16:27:52.453814Z",
     "start_time": "2021-03-24T16:27:50.489549Z"
    }
   },
   "outputs": [],
   "source": [
    "import numpy as np\n",
    "import matplotlib.pyplot as plt\n",
    "from utils.io_func import load_from_npy, load_from_csv"
   ]
  },
  {
   "cell_type": "code",
   "execution_count": null,
   "metadata": {
    "ExecuteTime": {
     "end_time": "2021-03-24T16:27:52.461344Z",
     "start_time": "2021-03-24T16:27:52.456495Z"
    }
   },
   "outputs": [],
   "source": [
    "TIME_STEP_LIST = [2, 4, 6, 7, 8, 10, 13, 16, 19, 22]\n",
    "GROUND_TRUTH_PATH = \"../preprocessing/out/Site_1/y-corn_soybean-2018.npy\"\n",
    "PRED_DIR_TEMPLATE = (\n",
    "    \"../experiments/out/in_season/AtLSTM-corn_soybean/time_step_{time_step}/\"\n",
    ")\n",
    "HARD_PRED_PATH_TEMPLATE = os.path.join(\n",
    "    PRED_DIR_TEMPLATE, \"y_test_hard_pred.csv\"\n",
    ")\n",
    "SOFT_PRED_PATH_TEMPLATE = os.path.join(\n",
    "    PRED_DIR_TEMPLATE, \"y_test_soft_pred.csv\"\n",
    ")"
   ]
  },
  {
   "cell_type": "markdown",
   "metadata": {},
   "source": [
    "# Input"
   ]
  },
  {
   "cell_type": "code",
   "execution_count": null,
   "metadata": {
    "ExecuteTime": {
     "end_time": "2021-03-24T16:28:01.512756Z",
     "start_time": "2021-03-24T16:27:52.463755Z"
    }
   },
   "outputs": [],
   "source": [
    "y_test = load_from_npy(GROUND_TRUTH_PATH)\n",
    "y_test_hard_pred_list, y_test_soft_pred_list = [], []\n",
    "for time_step in TIME_STEP_LIST:\n",
    "    y_test_hard_pred_list.append(load_from_csv(\n",
    "        HARD_PRED_PATH_TEMPLATE.format(time_step=time_step)\n",
    "    ).values.flatten())\n",
    "    y_test_soft_pred_list.append(load_from_csv(\n",
    "        SOFT_PRED_PATH_TEMPLATE.format(time_step=time_step)\n",
    "    ).values)"
   ]
  },
  {
   "cell_type": "markdown",
   "metadata": {},
   "source": [
    "# Predicted score analysis"
   ]
  },
  {
   "cell_type": "code",
   "execution_count": null,
   "metadata": {
    "ExecuteTime": {
     "end_time": "2021-03-24T16:28:04.886847Z",
     "start_time": "2021-03-24T16:28:01.515357Z"
    }
   },
   "outputs": [],
   "source": [
    "class_names = [\"Corn\", \"Soybean\"]\n",
    "class_values = [0, 1]\n",
    "\n",
    "for i, class_name in enumerate(class_names):\n",
    "    class_value = class_values[i]\n",
    "    class_sample_index = (y_test == class_value)\n",
    "    plt.figure(figsize=(18, 6))\n",
    "    plt.subplots_adjust(wspace=0.6, hspace=0.85)\n",
    "    for j, time_step in enumerate(TIME_STEP_LIST):\n",
    "        predicted_score = y_test_soft_pred_list[j][class_sample_index][\n",
    "            :, class_value\n",
    "        ]  # class value is equal to class index (0: 0, 1: 1)\n",
    "        plt.subplot(2, 5, j + 1)\n",
    "        plt.hist(\n",
    "            predicted_score,\n",
    "            weights=np.ones_like(predicted_score)/predicted_score.shape[0], bins=10,\n",
    "            color=\"#9AC8F1\", edgecolor=\"#3F78CB\", linewidth=2\n",
    "        )\n",
    "        plt.xlabel(\"Predicted score\")\n",
    "        plt.ylabel(\"Frequency\")\n",
    "        plt.ylim([0, 1])\n",
    "        plt.yticks([0, 0.2, 0.4, 0.6, 0.8, 1])\n",
    "        plt.title(\n",
    "            \"Week {}\".format(TIME_STEP_LIST[j]),\n",
    "            pad=plt.rcParams[\"axes.titlepad\"]*2\n",
    "        )\n",
    "        avg = predicted_score.mean()\n",
    "        plt.plot([avg, avg], [0, 1], color=\"#F20923\", linestyle=\"--\")\n",
    "        plt.annotate(\n",
    "            \"{:.2f}\".format(avg), xy=(avg, 1.03), xycoords=\"axes fraction\",\n",
    "            va=\"bottom\", ha=\"center\", color=\"#F20923\"\n",
    "        )\n",
    "        ax = plt.gca()\n",
    "        ax.yaxis.grid(True)"
   ]
  }
 ],
 "metadata": {
  "kernelspec": {
   "display_name": "Python 3",
   "language": "python",
   "name": "python3"
  },
  "language_info": {
   "codemirror_mode": {
    "name": "ipython",
    "version": 3
   },
   "file_extension": ".py",
   "mimetype": "text/x-python",
   "name": "python",
   "nbconvert_exporter": "python",
   "pygments_lexer": "ipython3",
   "version": "3.5.2"
  },
  "toc": {
   "base_numbering": 1,
   "nav_menu": {},
   "number_sections": true,
   "sideBar": true,
   "skip_h1_title": false,
   "title_cell": "Table of Contents",
   "title_sidebar": "Contents",
   "toc_cell": false,
   "toc_position": {
    "height": "calc(100% - 180px)",
    "left": "10px",
    "top": "150px",
    "width": "329px"
   },
   "toc_section_display": true,
   "toc_window_display": true
  }
 },
 "nbformat": 4,
 "nbformat_minor": 2
}
