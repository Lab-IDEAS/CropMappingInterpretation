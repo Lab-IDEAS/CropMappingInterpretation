{
 "cells": [
  {
   "cell_type": "code",
   "execution_count": null,
   "metadata": {
    "ExecuteTime": {
     "end_time": "2021-03-24T15:36:07.908790Z",
     "start_time": "2021-03-24T15:36:07.904925Z"
    }
   },
   "outputs": [],
   "source": [
    "import os\n",
    "import sys\n",
    "module_path = os.path.abspath(os.path.join(\"..\"))\n",
    "if module_path not in sys.path:\n",
    "    sys.path.append(module_path)"
   ]
  },
  {
   "cell_type": "code",
   "execution_count": null,
   "metadata": {
    "ExecuteTime": {
     "end_time": "2021-03-24T15:36:12.173058Z",
     "start_time": "2021-03-24T15:36:07.911459Z"
    }
   },
   "outputs": [],
   "source": [
    "import numpy as np\n",
    "import torch\n",
    "from torch import nn\n",
    "import matplotlib.pyplot as plt\n",
    "import seaborn as sns\n",
    "from sklearn.decomposition import PCA\n",
    "from sklearn.manifold import TSNE\n",
    "from utils.io_func import (\n",
    "    load_from_pkl, load_from_npy, save_to_npy, load_from_pth,\n",
    ")\n",
    "from utils.helper import LSTMHelper\n",
    "from config import SEED"
   ]
  },
  {
   "cell_type": "code",
   "execution_count": null,
   "metadata": {
    "ExecuteTime": {
     "end_time": "2021-03-24T15:36:12.180138Z",
     "start_time": "2021-03-24T15:36:12.176610Z"
    }
   },
   "outputs": [],
   "source": [
    "helper =LSTMHelper()"
   ]
  },
  {
   "cell_type": "code",
   "execution_count": null,
   "metadata": {
    "ExecuteTime": {
     "end_time": "2021-03-24T15:36:12.191402Z",
     "start_time": "2021-03-24T15:36:12.182600Z"
    }
   },
   "outputs": [],
   "source": [
    "BASE_SITE = \"Site_1\"\n",
    "TEST_YEARS = [str(year) for year in [2018]]\n",
    "X_PATH_TEMPLATE = \"../preprocessing/out/{site}/x-corn_soybean-{year}.npy\"\n",
    "Y_PATH_TEMPLATE = \"../preprocessing/out/{site}/y-corn_soybean-{year}.npy\"\n",
    "SCALER_PATH_TEMPLATE = (\n",
    "    \"../experiments/out/end_of_the_season/\"\n",
    "    \"AtLSTM-corn_soybean/{site}/scaler.pkl\"\n",
    ")\n",
    "MODEL_PATH_TEMPLATE = (\n",
    "    \"../experiments/out/end_of_the_season/\"\n",
    "    \"AtLSTM-corn_soybean/{site}/atlstm.pth\"\n",
    ")\n",
    "TSNE_RESULT_INPUT_FEATURE_PATH = (\n",
    "    \"./store/feature_vis_end2end/atlstm/tsne_result_input_feature.npy\"\n",
    ")\n",
    "TSNE_RESULT_HIDDEN_FEATURE_PATH = (\n",
    "    \"./store/feature_vis_end2end/atlstm/tsne_result_hidden_feature.npy\"\n",
    ")\n",
    "CLASS_NAME_SAMPLE_PATH = (\n",
    "    \"./store/feature_vis_end2end/atlstm/class_name_sample.npy\"\n",
    ")\n",
    "DEVICE = torch.device(\"cuda:0\")"
   ]
  },
  {
   "cell_type": "markdown",
   "metadata": {},
   "source": [
    "# Input"
   ]
  },
  {
   "cell_type": "code",
   "execution_count": null,
   "metadata": {
    "ExecuteTime": {
     "end_time": "2021-03-24T15:36:16.439707Z",
     "start_time": "2021-03-24T15:36:12.193842Z"
    }
   },
   "outputs": [],
   "source": [
    "def get_paths(path_template, site, years):\n",
    "    paths = []\n",
    "    for year in years:\n",
    "        paths.append(path_template.format(site=site, year=year))\n",
    "    return paths\n",
    "\n",
    "\n",
    "x_test = helper.input_x(get_paths(X_PATH_TEMPLATE, BASE_SITE, TEST_YEARS))\n",
    "y_test = helper.input_y(get_paths(Y_PATH_TEMPLATE, BASE_SITE, TEST_YEARS))"
   ]
  },
  {
   "cell_type": "code",
   "execution_count": null,
   "metadata": {
    "ExecuteTime": {
     "end_time": "2021-03-24T15:36:17.303625Z",
     "start_time": "2021-03-24T15:36:16.442071Z"
    }
   },
   "outputs": [],
   "source": [
    "x_list, class_name_list = [], []\n",
    "class_names = [\"corn\", \"soybean\"]\n",
    "translator = {\"corn\": 0, \"soybean\": 1}\n",
    "class_sample_size = 8000\n",
    "for class_name in class_names:\n",
    "    x_class = x_test[y_test==translator[class_name]]\n",
    "    np.random.seed(SEED)\n",
    "    class_sample_index = np.random.choice(\n",
    "        x_class.shape[0], size=class_sample_size, replace=False\n",
    "    )\n",
    "    x_class_sample = x_class[class_sample_index]\n",
    "    x_list.append(x_class_sample)\n",
    "    class_name_list.append(np.full((class_sample_size,), class_name))\n",
    "x_sample = np.concatenate(x_list)\n",
    "class_name_sample = np.concatenate(class_name_list)\n",
    "save_to_npy(class_name_sample, CLASS_NAME_SAMPLE_PATH)"
   ]
  },
  {
   "cell_type": "code",
   "execution_count": null,
   "metadata": {
    "ExecuteTime": {
     "end_time": "2021-03-24T15:36:17.311412Z",
     "start_time": "2021-03-24T15:36:17.307389Z"
    }
   },
   "outputs": [],
   "source": [
    "input_feature = x_sample.reshape(x_sample.shape[0], -1)  # for t-SNE"
   ]
  },
  {
   "cell_type": "markdown",
   "metadata": {},
   "source": [
    "# Normalization"
   ]
  },
  {
   "cell_type": "code",
   "execution_count": null,
   "metadata": {
    "ExecuteTime": {
     "end_time": "2021-03-24T15:36:17.327558Z",
     "start_time": "2021-03-24T15:36:17.314955Z"
    }
   },
   "outputs": [],
   "source": [
    "scaler = load_from_pkl(SCALER_PATH_TEMPLATE.format(site=BASE_SITE))\n",
    "x_sample = helper.normalize_with_scaler(scaler, x_sample)"
   ]
  },
  {
   "cell_type": "markdown",
   "metadata": {},
   "source": [
    "# Hidden feature extraction"
   ]
  },
  {
   "cell_type": "code",
   "execution_count": null,
   "metadata": {
    "ExecuteTime": {
     "end_time": "2021-03-24T15:36:24.254917Z",
     "start_time": "2021-03-24T15:36:17.329848Z"
    }
   },
   "outputs": [],
   "source": [
    "net = helper.build_model()\n",
    "net.load_state_dict(load_from_pth(MODEL_PATH_TEMPLATE.format(site=BASE_SITE)))\n",
    "# store hidden features obtained from multiple GPUs in a list\n",
    "# even if there is one GPU, the list should be used to avoid gc\n",
    "hidden_feature_list = []\n",
    "\n",
    "\n",
    "def store_hidden_features(self, input, output):\n",
    "    hidden_feature_per_device = input[0].detach().squeeze()\n",
    "    hidden_feature_list.append(hidden_feature_per_device)\n",
    "\n",
    "\n",
    "net.fc.register_forward_hook(store_hidden_features)\n",
    "net = nn.DataParallel(net, device_ids=[0, 1, 2, 3])\n",
    "net.to(DEVICE)"
   ]
  },
  {
   "cell_type": "code",
   "execution_count": null,
   "metadata": {
    "ExecuteTime": {
     "end_time": "2021-03-24T15:36:38.950437Z",
     "start_time": "2021-03-24T15:36:24.256703Z"
    }
   },
   "outputs": [],
   "source": [
    "net.eval()\n",
    "with torch.no_grad():\n",
    "    net(torch.FloatTensor(x_sample).to(DEVICE))"
   ]
  },
  {
   "cell_type": "code",
   "execution_count": null,
   "metadata": {
    "ExecuteTime": {
     "end_time": "2021-03-24T15:36:38.983466Z",
     "start_time": "2021-03-24T15:36:38.955253Z"
    }
   },
   "outputs": [],
   "source": [
    "# use gpu label to reconstruct the order of hidden features\n",
    "# ref: https://discuss.pytorch.org/t/register-forward-hook-with-multiple-gpus/12115\n",
    "hidden_feature_list = sorted(\n",
    "    hidden_feature_list, key=lambda x: int(str(x.device).split(\":\")[-1])\n",
    ")\n",
    "\n",
    "hidden_feature_list = [\n",
    "    hidden_feature_per_device.cpu()\n",
    "    for hidden_feature_per_device in hidden_feature_list\n",
    "]\n",
    "hidden_feature = np.concatenate(hidden_feature_list)"
   ]
  },
  {
   "cell_type": "markdown",
   "metadata": {},
   "source": [
    "# t-SNE"
   ]
  },
  {
   "cell_type": "code",
   "execution_count": null,
   "metadata": {
    "ExecuteTime": {
     "end_time": "2021-03-24T15:37:21.345597Z",
     "start_time": "2021-03-24T15:36:38.985996Z"
    }
   },
   "outputs": [],
   "source": [
    "def project_to_2d(feature):\n",
    "    transformer = PCA(n_components=50)\n",
    "    transformed = transformer.fit_transform(feature)\n",
    "    tsne = TSNE(n_components=2, verbose=1, perplexity=1500)\n",
    "    return tsne.fit_transform(transformed)\n",
    "\n",
    "\n",
    "tsne_result_input_feature = project_to_2d(input_feature)\n",
    "save_to_npy(tsne_result_input_feature, TSNE_RESULT_INPUT_FEATURE_PATH)\n",
    "tsne_result_hidden_feature = project_to_2d(hidden_feature)\n",
    "save_to_npy(tsne_result_hidden_feature, TSNE_RESULT_HIDDEN_FEATURE_PATH)"
   ]
  },
  {
   "cell_type": "code",
   "execution_count": null,
   "metadata": {
    "ExecuteTime": {
     "end_time": "2021-03-24T15:39:38.593342Z",
     "start_time": "2021-03-24T15:39:37.456465Z"
    }
   },
   "outputs": [],
   "source": [
    "tsne_result_input_feature = load_from_npy(TSNE_RESULT_INPUT_FEATURE_PATH)\n",
    "tsne_result_hidden_feature = load_from_npy(TSNE_RESULT_HIDDEN_FEATURE_PATH)\n",
    "class_name_sample = load_from_npy(CLASS_NAME_SAMPLE_PATH)\n",
    "plt.figure(figsize=(13, 5.5))\n",
    "\n",
    "\n",
    "def scatter_plot(tsne_result_feature):\n",
    "    sns.scatterplot(\n",
    "        x=tsne_result_feature[:, 0], y=tsne_result_feature[:, 1],\n",
    "        hue=class_name_sample,\n",
    "        s=3.6, edgecolor=\"none\"\n",
    "    )\n",
    "    plt.xticks([])\n",
    "    plt.yticks([])\n",
    "    plt.legend().set_visible(False)\n",
    "    \n",
    "\n",
    "plt.subplot(121)\n",
    "scatter_plot(tsne_result_input_feature)\n",
    "plt.title(\"Input features\")\n",
    "plt.subplot(122)\n",
    "scatter_plot(tsne_result_hidden_feature)\n",
    "plt.title(\"Learned features of AtLSTM\")\n",
    "plt.legend(\n",
    "    loc='upper center', bbox_to_anchor=(-0.1, -0.08), ncol=3,\n",
    "    handletextpad=0, columnspacing=2, frameon=False\n",
    ")"
   ]
  }
 ],
 "metadata": {
  "kernelspec": {
   "display_name": "Python 3",
   "language": "python",
   "name": "python3"
  },
  "language_info": {
   "codemirror_mode": {
    "name": "ipython",
    "version": 3
   },
   "file_extension": ".py",
   "mimetype": "text/x-python",
   "name": "python",
   "nbconvert_exporter": "python",
   "pygments_lexer": "ipython3",
   "version": "3.5.2"
  },
  "toc": {
   "base_numbering": 1,
   "nav_menu": {},
   "number_sections": true,
   "sideBar": true,
   "skip_h1_title": false,
   "title_cell": "Table of Contents",
   "title_sidebar": "Contents",
   "toc_cell": false,
   "toc_position": {
    "height": "calc(100% - 180px)",
    "left": "10px",
    "top": "150px",
    "width": "300px"
   },
   "toc_section_display": true,
   "toc_window_display": true
  }
 },
 "nbformat": 4,
 "nbformat_minor": 2
}
