{
 "cells": [
  {
   "cell_type": "code",
   "execution_count": null,
   "metadata": {
    "ExecuteTime": {
     "end_time": "2021-03-24T16:38:53.896780Z",
     "start_time": "2021-03-24T16:38:53.892012Z"
    }
   },
   "outputs": [],
   "source": [
    "import os\n",
    "import sys\n",
    "module_path = os.path.abspath(os.path.join(\"..\"))\n",
    "if module_path not in sys.path:\n",
    "    sys.path.append(module_path)"
   ]
  },
  {
   "cell_type": "code",
   "execution_count": null,
   "metadata": {
    "ExecuteTime": {
     "end_time": "2021-03-24T16:38:57.078326Z",
     "start_time": "2021-03-24T16:38:53.900128Z"
    }
   },
   "outputs": [],
   "source": [
    "import numpy as np\n",
    "import matplotlib.pyplot as plt\n",
    "import matplotlib.ticker as ticker\n",
    "import seaborn as sns\n",
    "import torch\n",
    "import torch.nn as nn\n",
    "from utils.io_func import load_from_pkl, load_from_pth\n",
    "from utils.helper import TransformerHelper"
   ]
  },
  {
   "cell_type": "code",
   "execution_count": null,
   "metadata": {
    "ExecuteTime": {
     "end_time": "2021-03-24T16:38:57.085975Z",
     "start_time": "2021-03-24T16:38:57.082443Z"
    }
   },
   "outputs": [],
   "source": [
    "helper = TransformerHelper()"
   ]
  },
  {
   "cell_type": "code",
   "execution_count": null,
   "metadata": {
    "ExecuteTime": {
     "end_time": "2021-03-24T16:38:57.096402Z",
     "start_time": "2021-03-24T16:38:57.089116Z"
    }
   },
   "outputs": [],
   "source": [
    "BASE_SITE = \"Site_1\"\n",
    "TRAIN_YEARS = [str(year) for year in [2015, 2016, 2017]]\n",
    "TEST_YEARS = [str(year) for year in [2018]]\n",
    "X_PATH_TEMPLATE = \"../preprocessing/out/{site}/x-corn_soybean-{year}.npy\"\n",
    "Y_PATH_TEMPLATE = \"../preprocessing/out/{site}/y-corn_soybean-{year}.npy\"\n",
    "SCALER_PATH_TEMPLATE = (\n",
    "    \"../experiments/out/end_of_the_season/\"\n",
    "    \"Transformer-corn_soybean/{site}/scaler.pkl\"\n",
    ")\n",
    "MODEL_PATH_TEMPLATE = (\n",
    "    \"../experiments/out/end_of_the_season/\"\n",
    "    \"Transformer-corn_soybean/{site}/transformer.pth\"\n",
    ")\n",
    "DEVICE = torch.device(\"cuda:0\")"
   ]
  },
  {
   "cell_type": "markdown",
   "metadata": {},
   "source": [
    "# Input"
   ]
  },
  {
   "cell_type": "code",
   "execution_count": null,
   "metadata": {
    "ExecuteTime": {
     "end_time": "2021-03-24T16:39:17.595091Z",
     "start_time": "2021-03-24T16:38:57.099870Z"
    }
   },
   "outputs": [],
   "source": [
    "def get_paths(path_template, site, years):\n",
    "    paths = []\n",
    "    for year in years:\n",
    "        paths.append(path_template.format(site=site, year=year))\n",
    "    return paths\n",
    "\n",
    "\n",
    "x_train = helper.input_x(get_paths(X_PATH_TEMPLATE, BASE_SITE, TRAIN_YEARS))\n",
    "y_train = helper.input_y(get_paths(Y_PATH_TEMPLATE, BASE_SITE, TRAIN_YEARS))\n",
    "x_test = helper.input_x(get_paths(X_PATH_TEMPLATE, BASE_SITE, TEST_YEARS))\n",
    "y_test = helper.input_y(get_paths(Y_PATH_TEMPLATE, BASE_SITE, TEST_YEARS))"
   ]
  },
  {
   "cell_type": "markdown",
   "metadata": {},
   "source": [
    "# Normalization"
   ]
  },
  {
   "cell_type": "code",
   "execution_count": null,
   "metadata": {
    "ExecuteTime": {
     "end_time": "2021-03-24T16:39:21.265571Z",
     "start_time": "2021-03-24T16:39:17.598271Z"
    }
   },
   "outputs": [],
   "source": [
    "scaler = load_from_pkl(SCALER_PATH_TEMPLATE.format(site=BASE_SITE))\n",
    "x_train = helper.normalize_with_scaler(scaler, x_train)\n",
    "x_test = helper.normalize_with_scaler(scaler, x_test)"
   ]
  },
  {
   "cell_type": "markdown",
   "metadata": {},
   "source": [
    "# Sampling"
   ]
  },
  {
   "cell_type": "code",
   "execution_count": null,
   "metadata": {
    "ExecuteTime": {
     "end_time": "2021-03-24T16:39:21.488862Z",
     "start_time": "2021-03-24T16:39:21.269750Z"
    }
   },
   "outputs": [],
   "source": [
    "# select 3000 random samples\n",
    "sample_index = np.random.choice(x_test.shape[0], 3000, replace=False)\n",
    "sample_x = x_test[sample_index]\n",
    "sample_y = y_test[sample_index]\n",
    "sample_dataloader = helper.make_data_loader(sample_x, sample_y, shuffle=False)"
   ]
  },
  {
   "cell_type": "markdown",
   "metadata": {},
   "source": [
    "# Self-attention weight analysis"
   ]
  },
  {
   "cell_type": "code",
   "execution_count": null,
   "metadata": {
    "ExecuteTime": {
     "end_time": "2021-03-24T16:39:32.228633Z",
     "start_time": "2021-03-24T16:39:21.491231Z"
    }
   },
   "outputs": [],
   "source": [
    "net = helper.build_model()\n",
    "net.load_state_dict(load_from_pth(MODEL_PATH_TEMPLATE.format(site=BASE_SITE)))\n",
    "net.to(DEVICE);  # semicolon is used for preventing extra output"
   ]
  },
  {
   "cell_type": "code",
   "execution_count": null,
   "metadata": {
    "ExecuteTime": {
     "end_time": "2021-03-24T16:39:32.238437Z",
     "start_time": "2021-03-24T16:39:32.232241Z"
    }
   },
   "outputs": [],
   "source": [
    "attn_weights_list = []\n",
    "\n",
    "\n",
    "def record_attn_weights(module, attn_in, attn_out):\n",
    "    attn_weights_list.append(attn_out[1].detach().cpu().numpy())\n",
    "\n",
    "\n",
    "handles = []\n",
    "for i, encoder_layer in enumerate(net.encoder.layers):\n",
    "    handles.append(\n",
    "        encoder_layer.self_attn.register_forward_hook(record_attn_weights)\n",
    "    )"
   ]
  },
  {
   "cell_type": "code",
   "execution_count": null,
   "metadata": {
    "ExecuteTime": {
     "end_time": "2021-03-24T16:39:33.515014Z",
     "start_time": "2021-03-24T16:39:32.242010Z"
    }
   },
   "outputs": [],
   "source": [
    "sample_y_soft_pred, sample_y_hard_pred = helper.predict(\n",
    "    net, sample_dataloader, DEVICE\n",
    ")\n",
    "for handle in handles:\n",
    "    handle.remove()"
   ]
  },
  {
   "cell_type": "code",
   "execution_count": null,
   "metadata": {
    "ExecuteTime": {
     "end_time": "2021-03-24T16:39:36.428676Z",
     "start_time": "2021-03-24T16:39:33.522437Z"
    }
   },
   "outputs": [],
   "source": [
    "class_dict = {\"Corn\": 0, \"Soybean\": 1}\n",
    "attn_wegihts_arr = np.array(attn_weights_list)\n",
    "for class_name in [\"Corn\", \"Soybean\"]:\n",
    "    class_value = class_dict[class_name]\n",
    "    attn_wegihts4class = attn_wegihts_arr[:, sample_y==class_value, :, :]\n",
    "    fig, axs = plt.subplots(\n",
    "        figsize=(13, 5), nrows=1, ncols=2,\n",
    "        gridspec_kw={\"wspace\": 0.4, \"hspace\": 0.5}\n",
    "    )\n",
    "    for i, attn_weights in enumerate(attn_wegihts4class):\n",
    "        attn_weights_mean = attn_weights.mean(axis=0)\n",
    "        ax = axs.reshape(-1)[i]\n",
    "        plt.sca(ax)\n",
    "        vmin = np.floor(attn_weights_mean.min()*1000)/1000\n",
    "        vmax = np.ceil(attn_weights_mean.max()*1000)/1000\n",
    "        sns.heatmap(\n",
    "            attn_weights_mean, vmin=vmin, vmax=vmax,\n",
    "            cbar=False, cmap=sns.cubehelix_palette(light=0.95, as_cmap=True)\n",
    "        )\n",
    "        ticks = np.arange(4, attn_weights_mean.shape[0], 4)\n",
    "        plt.xticks(ticks - 0.5, ticks)\n",
    "        plt.yticks(ticks - 0.5, ticks)\n",
    "        plt.ylabel(\"Weeks after April 15\\n(output high-level features)\")\n",
    "        plt.xlabel(\"Weeks after April 15\\n(input low-level features)\")\n",
    "        plt.title(\"Layer {:d}\".format(i + 1))\n",
    "        cbar = plt.colorbar(\n",
    "            ax.get_children()[0],\n",
    "            ticks=np.linspace(vmin, vmax, num=5),\n",
    "            format=ticker.StrMethodFormatter(\"{x:.4f}\"),\n",
    "            extend=\"both\"\n",
    "        )\n",
    "        cbar.ax.tick_params(labelsize=plt.rcParams[\"font.size\"] - 4)\n",
    "        cbar.outline.set_visible(False)\n",
    "    # remove all tick markers on the axis of x, y and colorbar\n",
    "    for ax in fig.axes:\n",
    "        ax.tick_params(length=0)\n",
    "    fig.suptitle(class_name)\n",
    "    fig.subplots_adjust(top=0.8)"
   ]
  },
  {
   "cell_type": "markdown",
   "metadata": {},
   "source": [
    "# Input feature importance analysis"
   ]
  },
  {
   "cell_type": "code",
   "execution_count": null,
   "metadata": {
    "ExecuteTime": {
     "end_time": "2021-03-24T16:39:36.647847Z",
     "start_time": "2021-03-24T16:39:36.432379Z"
    }
   },
   "outputs": [],
   "source": [
    "net = helper.build_model()\n",
    "net.load_state_dict(load_from_pth(MODEL_PATH_TEMPLATE.format(site=BASE_SITE)))\n",
    "net.to(DEVICE);  # semicolon is used for preventing extra output\n",
    "net = nn.DataParallel(net, device_ids=[0,1,2,3])\n",
    "\n",
    "net.eval()\n",
    "for p in net.parameters():\n",
    "    p.requires_grad = False"
   ]
  },
  {
   "cell_type": "code",
   "execution_count": null,
   "metadata": {
    "ExecuteTime": {
     "end_time": "2021-03-24T16:40:02.411031Z",
     "start_time": "2021-03-24T16:39:36.665889Z"
    }
   },
   "outputs": [],
   "source": [
    "sample_grad_list = []\n",
    "for i, batch in enumerate(sample_dataloader):\n",
    "    xt_batch = batch[\"x\"].to(DEVICE)\n",
    "    xt_batch.requires_grad = True\n",
    "    outputs = net(xt_batch)\n",
    "    outputs[np.arange(0, outputs.shape[0]), batch[\"y\"]].sum().backward()\n",
    "    sample_grad_list.append(xt_batch.grad.detach().cpu().numpy())\n",
    "sample_grad_arr = np.concatenate(sample_grad_list, axis=0)"
   ]
  },
  {
   "cell_type": "code",
   "execution_count": null,
   "metadata": {
    "ExecuteTime": {
     "end_time": "2021-03-24T16:40:05.761437Z",
     "start_time": "2021-03-24T16:40:02.415065Z"
    },
    "scrolled": false
   },
   "outputs": [],
   "source": [
    "band_names = [\n",
    "    \"Blue\", \"Green\", \"Red\", \"Near-infrared\",\n",
    "    \"Shortwave infrared 1\", \"Shortwave infrared 2\",\n",
    "]\n",
    "class_dict = {\n",
    "    \"Corn\": [0, \"blue\"],\n",
    "    \"Soybean\": [1, \"red\"],\n",
    "}\n",
    "\n",
    "for class_name in [\"Corn\", \"Soybean\"]:\n",
    "    class_value, class_color = class_dict[class_name]\n",
    "    grad4class = sample_grad_arr[sample_y==class_value]\n",
    "    mean4class = grad4class.mean(axis=0)\n",
    "    std4class = grad4class.std(axis=0)\n",
    "    fig, axs = plt.subplots(\n",
    "        figsize=(18, 10.5), nrows=2, ncols=3,\n",
    "        gridspec_kw={\"wspace\": 0.5, \"hspace\": 0.4}\n",
    "    )\n",
    "    vmin = (mean4class - std4class).min() - 0.1\n",
    "    vmax = (mean4class + std4class).max() + 0.1\n",
    "    for i, band_name in enumerate(band_names):\n",
    "        means = mean4class[:, i]\n",
    "        stds = std4class[:, i]\n",
    "        ax = axs.reshape(-1)[i]\n",
    "        plt.sca(ax)\n",
    "        xrange = range(1, sample_grad_arr.shape[1] + 1)\n",
    "        plt.plot(xrange, [0]*sample_grad_arr.shape[1], \"--\", color=\"orange\")\n",
    "        plt.plot(xrange, means, color=class_color)\n",
    "        plt.fill_between(\n",
    "            xrange, means - stds, means + stds,\n",
    "            facecolor=class_color, alpha=0.1\n",
    "        )\n",
    "        plt.plot(\n",
    "            xrange, means - stds,\n",
    "            linewidth=1, color=class_color, alpha=0.25\n",
    "        )\n",
    "        plt.plot(\n",
    "            xrange, means + stds,\n",
    "            linewidth=1, color=class_color, alpha=0.25\n",
    "        )\n",
    "        plt.ylim([vmin, vmax])\n",
    "        xticks = np.arange(1, sample_grad_arr.shape[1] + 1, 3)\n",
    "        plt.xticks(xticks, xticks)\n",
    "        plt.xlabel(\"Weeks after April 15\")\n",
    "        plt.ylabel(\"Derivative\")\n",
    "        plt.title(band_name)\n",
    "    fig.suptitle(class_name)"
   ]
  }
 ],
 "metadata": {
  "kernelspec": {
   "display_name": "Python 3",
   "language": "python",
   "name": "python3"
  },
  "language_info": {
   "codemirror_mode": {
    "name": "ipython",
    "version": 3
   },
   "file_extension": ".py",
   "mimetype": "text/x-python",
   "name": "python",
   "nbconvert_exporter": "python",
   "pygments_lexer": "ipython3",
   "version": "3.5.2"
  },
  "toc": {
   "base_numbering": 1,
   "nav_menu": {},
   "number_sections": true,
   "sideBar": true,
   "skip_h1_title": false,
   "title_cell": "Table of Contents",
   "title_sidebar": "Contents",
   "toc_cell": false,
   "toc_position": {
    "height": "calc(100% - 180px)",
    "left": "10px",
    "top": "150px",
    "width": "307px"
   },
   "toc_section_display": true,
   "toc_window_display": true
  }
 },
 "nbformat": 4,
 "nbformat_minor": 2
}
