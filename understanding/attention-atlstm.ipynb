{
 "cells": [
  {
   "cell_type": "code",
   "execution_count": null,
   "metadata": {
    "ExecuteTime": {
     "end_time": "2021-03-24T16:35:46.988617Z",
     "start_time": "2021-03-24T16:35:46.984635Z"
    }
   },
   "outputs": [],
   "source": [
    "import os\n",
    "import sys\n",
    "module_path = os.path.abspath(os.path.join(\"..\"))\n",
    "if module_path not in sys.path:\n",
    "    sys.path.append(module_path)"
   ]
  },
  {
   "cell_type": "code",
   "execution_count": null,
   "metadata": {
    "ExecuteTime": {
     "end_time": "2021-03-24T16:35:48.736922Z",
     "start_time": "2021-03-24T16:35:46.993160Z"
    }
   },
   "outputs": [],
   "source": [
    "import matplotlib.pyplot as plt\n",
    "from utils.io_func import load_from_csv, load_from_npy"
   ]
  },
  {
   "cell_type": "code",
   "execution_count": null,
   "metadata": {
    "ExecuteTime": {
     "end_time": "2021-03-24T16:35:48.742980Z",
     "start_time": "2021-03-24T16:35:48.739670Z"
    }
   },
   "outputs": [],
   "source": [
    "ATTN_TEST_PATH = (\n",
    "    \"../experiments/out/end_of_the_season/\"\n",
    "    \"AtLSTM-corn_soybean/Site_1/attn_test.csv\"\n",
    ")\n",
    "Y_TRUE_TEST_PATH = \"../preprocessing/out/Site_1/y-corn_soybean-2018.npy\""
   ]
  },
  {
   "cell_type": "markdown",
   "metadata": {},
   "source": [
    "# Input"
   ]
  },
  {
   "cell_type": "code",
   "execution_count": null,
   "metadata": {
    "ExecuteTime": {
     "end_time": "2021-03-24T16:36:10.438777Z",
     "start_time": "2021-03-24T16:35:48.745414Z"
    }
   },
   "outputs": [],
   "source": [
    "attn_test = load_from_csv(ATTN_TEST_PATH).values\n",
    "y_true_test = load_from_npy(Y_TRUE_TEST_PATH)\n",
    "attn_test_corn = attn_test[y_true_test.astype(\"bool\")]\n",
    "attn_test_soybean = attn_test[~y_true_test.astype(\"bool\")]"
   ]
  },
  {
   "cell_type": "markdown",
   "metadata": {},
   "source": [
    "# Attention plot"
   ]
  },
  {
   "cell_type": "code",
   "execution_count": null,
   "metadata": {
    "ExecuteTime": {
     "end_time": "2021-03-24T16:36:23.198106Z",
     "start_time": "2021-03-24T16:36:10.443266Z"
    }
   },
   "outputs": [],
   "source": [
    "plt.figure(figsize=(18, 4))\n",
    "xticks = range(1, attn_test.shape[1] + 1, 3)\n",
    "plt.subplot(\"121\")\n",
    "plt.boxplot(attn_test_corn, sym=\"\")\n",
    "plt.plot(\n",
    "    range(1, attn_test_corn.shape[1] + 1), attn_test_corn.mean(axis=0),\n",
    "    \"bs-\", linewidth=1.8, markersize=5, label=\"Corn\")\n",
    "plt.xticks(xticks, xticks)\n",
    "plt.xlabel(\"Weeks after April 15\")\n",
    "plt.ylabel(\"Attention value\")\n",
    "plt.title(\"Corn\")\n",
    "plt.subplot(\"122\")\n",
    "plt.boxplot(attn_test_soybean, sym=\"\")\n",
    "plt.plot(\n",
    "    range(1, attn_test_soybean.shape[1] + 1), attn_test_soybean.mean(axis=0),\n",
    "    \"rs-\", linewidth=1.8, markersize=5, label=\"Soybean\"\n",
    ")\n",
    "plt.xticks(xticks, xticks)\n",
    "plt.xlabel(\"Weeks after April 15\")\n",
    "plt.ylabel(\"Attention value\")\n",
    "plt.title(\"Soybean\")"
   ]
  }
 ],
 "metadata": {
  "kernelspec": {
   "display_name": "Python 3",
   "language": "python",
   "name": "python3"
  },
  "language_info": {
   "codemirror_mode": {
    "name": "ipython",
    "version": 3
   },
   "file_extension": ".py",
   "mimetype": "text/x-python",
   "name": "python",
   "nbconvert_exporter": "python",
   "pygments_lexer": "ipython3",
   "version": "3.5.2"
  },
  "toc": {
   "base_numbering": 1,
   "nav_menu": {},
   "number_sections": true,
   "sideBar": true,
   "skip_h1_title": false,
   "title_cell": "Table of Contents",
   "title_sidebar": "Contents",
   "toc_cell": false,
   "toc_position": {
    "height": "calc(100% - 180px)",
    "left": "10px",
    "top": "150px",
    "width": "326px"
   },
   "toc_section_display": true,
   "toc_window_display": true
  }
 },
 "nbformat": 4,
 "nbformat_minor": 2
}
