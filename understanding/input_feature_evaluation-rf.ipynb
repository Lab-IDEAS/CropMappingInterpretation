{
 "cells": [
  {
   "cell_type": "code",
   "execution_count": null,
   "metadata": {
    "ExecuteTime": {
     "end_time": "2021-03-24T15:28:16.904892Z",
     "start_time": "2021-03-24T15:28:16.901105Z"
    }
   },
   "outputs": [],
   "source": [
    "import os\n",
    "import sys\n",
    "module_path = os.path.abspath(os.path.join(\"..\"))\n",
    "if module_path not in sys.path:\n",
    "    sys.path.append(module_path)"
   ]
  },
  {
   "cell_type": "code",
   "execution_count": null,
   "metadata": {
    "ExecuteTime": {
     "end_time": "2021-03-24T15:28:19.896259Z",
     "start_time": "2021-03-24T15:28:16.907683Z"
    }
   },
   "outputs": [],
   "source": [
    "import numpy as np\n",
    "import matplotlib.pyplot as plt\n",
    "from utils.io_func import load_from_pkl\n",
    "from utils.helper import RFHelper"
   ]
  },
  {
   "cell_type": "code",
   "execution_count": null,
   "metadata": {
    "ExecuteTime": {
     "end_time": "2021-03-24T15:28:19.903830Z",
     "start_time": "2021-03-24T15:28:19.900230Z"
    }
   },
   "outputs": [],
   "source": [
    "helper = RFHelper()"
   ]
  },
  {
   "cell_type": "code",
   "execution_count": null,
   "metadata": {
    "ExecuteTime": {
     "end_time": "2021-03-24T15:28:19.913686Z",
     "start_time": "2021-03-24T15:28:19.907075Z"
    }
   },
   "outputs": [],
   "source": [
    "BASE_SITE = \"Site_1\"\n",
    "MODEL_PATH_TEMPLATE = (\n",
    "    \"../experiments/out/end_of_the_season/RF-corn_soybean/{site}/rf.pkl\"\n",
    ")"
   ]
  },
  {
   "cell_type": "markdown",
   "metadata": {},
   "source": [
    "# Input model"
   ]
  },
  {
   "cell_type": "code",
   "execution_count": null,
   "metadata": {
    "ExecuteTime": {
     "end_time": "2021-03-24T15:28:23.139205Z",
     "start_time": "2021-03-24T15:28:19.916903Z"
    }
   },
   "outputs": [],
   "source": [
    "rf = load_from_pkl(MODEL_PATH_TEMPLATE.format(site=BASE_SITE))"
   ]
  },
  {
   "cell_type": "markdown",
   "metadata": {
    "ExecuteTime": {
     "end_time": "2020-07-26T14:48:23.145633Z",
     "start_time": "2020-07-26T14:48:19.710Z"
    }
   },
   "source": [
    "# Input feature importance analysis"
   ]
  },
  {
   "cell_type": "code",
   "execution_count": null,
   "metadata": {
    "ExecuteTime": {
     "end_time": "2021-03-24T15:28:25.200073Z",
     "start_time": "2021-03-24T15:28:23.141521Z"
    },
    "scrolled": false
   },
   "outputs": [],
   "source": [
    "band_names = [\n",
    "    \"Blue\", \"Green\", \"Red\", \"Near-infrared\",\n",
    "    \"Shortwave infrared 1\", \"Shortwave infrared 2\",\n",
    "]\n",
    "class_dict = {\n",
    "    \"Corn\": [0, \"blue\"],\n",
    "    \"Soybean\": [1, \"red\"],\n",
    "}\n",
    "\n",
    "fig, axs = plt.subplots(\n",
    "    figsize=(18, 10.5), nrows=2, ncols=3,\n",
    "    gridspec_kw={\"wspace\": 0.5, \"hspace\": 0.4}\n",
    ") \n",
    "vmin = rf.feature_importances_.min() - 0.01\n",
    "vmax = rf.feature_importances_.max() + 0.01\n",
    "for i, band_name in enumerate(band_names):\n",
    "    feat_impt = rf.feature_importances_.reshape((23, 6)).T[i, :]\n",
    "    ax = axs.reshape(-1)[i]\n",
    "    plt.sca(ax)\n",
    "    xrange = range(1, feat_impt.shape[0] + 1)\n",
    "    plt.plot(xrange, feat_impt)\n",
    "    plt.ylim([vmin, vmax])\n",
    "    xticks = np.arange(1, feat_impt.shape[0] + 1, 3)\n",
    "    plt.xticks(xticks, xticks)\n",
    "    plt.xlabel(\"Weeks after April 15\")\n",
    "    plt.ylabel(\"Feature importance\")\n",
    "    plt.title(band_name)"
   ]
  }
 ],
 "metadata": {
  "kernelspec": {
   "display_name": "Python 3",
   "language": "python",
   "name": "python3"
  },
  "language_info": {
   "codemirror_mode": {
    "name": "ipython",
    "version": 3
   },
   "file_extension": ".py",
   "mimetype": "text/x-python",
   "name": "python",
   "nbconvert_exporter": "python",
   "pygments_lexer": "ipython3",
   "version": "3.5.2"
  },
  "toc": {
   "base_numbering": 1,
   "nav_menu": {},
   "number_sections": true,
   "sideBar": true,
   "skip_h1_title": false,
   "title_cell": "Table of Contents",
   "title_sidebar": "Contents",
   "toc_cell": false,
   "toc_position": {
    "height": "calc(100% - 180px)",
    "left": "10px",
    "top": "150px",
    "width": "317px"
   },
   "toc_section_display": true,
   "toc_window_display": true
  }
 },
 "nbformat": 4,
 "nbformat_minor": 2
}
