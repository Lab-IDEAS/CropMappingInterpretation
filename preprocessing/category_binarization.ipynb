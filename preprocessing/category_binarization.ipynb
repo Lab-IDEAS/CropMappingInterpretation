{
 "cells": [
  {
   "cell_type": "code",
   "execution_count": null,
   "metadata": {
    "ExecuteTime": {
     "end_time": "2021-03-24T14:33:50.696463Z",
     "start_time": "2021-03-24T14:33:50.692589Z"
    }
   },
   "outputs": [],
   "source": [
    "import os\n",
    "import sys\n",
    "module_path = os.path.abspath(os.path.join(\"..\"))\n",
    "if module_path not in sys.path:\n",
    "    sys.path.append(module_path)"
   ]
  },
  {
   "cell_type": "code",
   "execution_count": null,
   "metadata": {
    "ExecuteTime": {
     "end_time": "2021-03-24T14:33:52.830198Z",
     "start_time": "2021-03-24T14:33:50.699354Z"
    }
   },
   "outputs": [],
   "source": [
    "import numpy as np\n",
    "from utils.logger import PrettyLogger\n",
    "from utils.io_func import load_from_npy, save_to_npy"
   ]
  },
  {
   "cell_type": "code",
   "execution_count": null,
   "metadata": {
    "ExecuteTime": {
     "end_time": "2021-03-24T14:33:52.837425Z",
     "start_time": "2021-03-24T14:33:52.833497Z"
    }
   },
   "outputs": [],
   "source": [
    "logger = PrettyLogger()"
   ]
  },
  {
   "cell_type": "code",
   "execution_count": null,
   "metadata": {
    "ExecuteTime": {
     "end_time": "2021-03-24T14:33:52.910747Z",
     "start_time": "2021-03-24T14:33:52.841161Z"
    },
    "scrolled": true
   },
   "outputs": [],
   "source": [
    "SITE_YEAR_TUPLE = ((\"Site_1\", \"2015\"),)\n",
    "Y_3C_PATH_TEMPLATE = \"./out/{site}/y-{year}.npy\"  # reference labels of three categories\n",
    "X_3C_PATH_TEMPLATE = \"./out/{site}/x-{year}.npy\"\n",
    "OUT_X_CORN_SOYBEAN_FILEPATH_TEMPLATE = \"./out/{site}/x-corn_soybean-{year}.npy\"\n",
    "OUT_Y_CORN_SOYBEAN_FILEPATH_TEMPLATE = \"./out/{site}/y-corn_soybean-{year}.npy\""
   ]
  },
  {
   "cell_type": "markdown",
   "metadata": {},
   "source": [
    "# Corn-Soybean"
   ]
  },
  {
   "cell_type": "code",
   "execution_count": null,
   "metadata": {
    "ExecuteTime": {
     "end_time": "2021-03-24T14:38:30.182710Z",
     "start_time": "2021-03-24T14:33:52.914799Z"
    }
   },
   "outputs": [],
   "source": [
    "for site, year in SITE_YEAR_TUPLE:\n",
    "    y_3c = load_from_npy(Y_3C_PATH_TEMPLATE.format(site=site, year=year))\n",
    "    y_corn_soybean = y_3c[y_3c != 0]\n",
    "    y_corn_soybean[y_corn_soybean == 1] = 0  # corn (1) => corn (0)\n",
    "    y_corn_soybean[y_corn_soybean == 2] = 1  # soybean (2) => soybean (1)\n",
    "    x_3c = load_from_npy(X_3C_PATH_TEMPLATE.format(site=site, year=year))\n",
    "    x_corn_soybean = x_3c[y_3c != 0]\n",
    "    save_to_npy(y_corn_soybean, OUT_Y_CORN_SOYBEAN_FILEPATH_TEMPLATE.format(\n",
    "        site=site, year=year\n",
    "    ))\n",
    "    save_to_npy(x_corn_soybean, OUT_X_CORN_SOYBEAN_FILEPATH_TEMPLATE.format(\n",
    "        site=site, year=year\n",
    "    ))"
   ]
  }
 ],
 "metadata": {
  "kernelspec": {
   "display_name": "Python 3",
   "language": "python",
   "name": "python3"
  },
  "language_info": {
   "codemirror_mode": {
    "name": "ipython",
    "version": 3
   },
   "file_extension": ".py",
   "mimetype": "text/x-python",
   "name": "python",
   "nbconvert_exporter": "python",
   "pygments_lexer": "ipython3",
   "version": "3.5.2"
  },
  "toc": {
   "base_numbering": 1,
   "nav_menu": {},
   "number_sections": true,
   "sideBar": true,
   "skip_h1_title": false,
   "title_cell": "Table of Contents",
   "title_sidebar": "Contents",
   "toc_cell": false,
   "toc_position": {
    "height": "calc(100% - 180px)",
    "left": "10px",
    "top": "150px",
    "width": "230px"
   },
   "toc_section_display": true,
   "toc_window_display": true
  }
 },
 "nbformat": 4,
 "nbformat_minor": 2
}
