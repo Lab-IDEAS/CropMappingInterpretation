{
 "cells": [
  {
   "cell_type": "code",
   "execution_count": null,
   "metadata": {
    "ExecuteTime": {
     "end_time": "2020-01-09T06:35:28.038350Z",
     "start_time": "2020-01-09T06:35:28.031637Z"
    }
   },
   "outputs": [],
   "source": [
    "import os\n",
    "import sys\n",
    "module_path = os.path.abspath(os.path.join(\"..\"))\n",
    "if module_path not in sys.path:\n",
    "    sys.path.append(module_path)"
   ]
  },
  {
   "cell_type": "code",
   "execution_count": null,
   "metadata": {
    "ExecuteTime": {
     "end_time": "2020-01-09T06:35:35.435742Z",
     "start_time": "2020-01-09T06:35:28.052269Z"
    }
   },
   "outputs": [],
   "source": [
    "import numpy as np\n",
    "from utils.logger import PrettyLogger\n",
    "from utils.io_func import (\n",
    "    load_from_tiff, save_to_tiff, load_from_npy, save_to_npy\n",
    ")\n",
    "from config import START_V_I, START_H_I, SIDE_LEN"
   ]
  },
  {
   "cell_type": "code",
   "execution_count": null,
   "metadata": {
    "ExecuteTime": {
     "end_time": "2020-01-09T06:35:35.443189Z",
     "start_time": "2020-01-09T06:35:35.439382Z"
    }
   },
   "outputs": [],
   "source": [
    "logger = PrettyLogger()"
   ]
  },
  {
   "cell_type": "code",
   "execution_count": null,
   "metadata": {
    "ExecuteTime": {
     "end_time": "2020-01-09T06:35:35.464212Z",
     "start_time": "2020-01-09T06:35:35.445754Z"
    }
   },
   "outputs": [],
   "source": [
    "SITE_YEAR_TUPLE = ((\"Site_A\", \"2015\"),)\n",
    "DATA_DIR_TEMPLATE = \"../data/{site}/CDL/\"\n",
    "CROPPED_FILEPATH_TEMPLATE = \"./out/{site}/CDL/cropped/CDL-{year}.tif\"\n",
    "TRANSCODED_FILEPATH_TEMPLATE = \"./out/{site}/CDL/transcoded/CDL-{year}.tif\"\n",
    "INTERPOLATED_FILEPATH_TEMPLATE = (\n",
    "    \"./out/{site}/ARD/cropped_interpolated/{year}/filter_band.npy\"\n",
    ")\n",
    "FINAL_OUT_FILEPATH_TEMPLATE = \"./out/{site}/y-{year}.npy\""
   ]
  },
  {
   "cell_type": "markdown",
   "metadata": {},
   "source": [
    "# Cropping and transcoding"
   ]
  },
  {
   "cell_type": "code",
   "execution_count": null,
   "metadata": {
    "ExecuteTime": {
     "end_time": "2020-01-09T06:35:35.493707Z",
     "start_time": "2020-01-09T06:35:35.467584Z"
    }
   },
   "outputs": [],
   "source": [
    "def transcode(p):\n",
    "    # corn:1 -> 1, soybean:5 -> 2, other:other -> 0\n",
    "    return 1 if p == 1 else 2 if p == 5 else 0\n",
    "\n",
    "\n",
    "def preprocess_cdl(\n",
    "    data_path, cropped_filepath, transcoded_filepath,\n",
    "    interpolated_filepath, final_out_filepath\n",
    "):\n",
    "    # input\n",
    "    raw_img = load_from_tiff(data_path)\n",
    "\n",
    "    # crop cdl\n",
    "    cropped_img = raw_img[\n",
    "        START_V_I:START_V_I + SIDE_LEN, START_H_I:START_H_I+SIDE_LEN\n",
    "    ]\n",
    "    save_to_tiff(cropped_img, cropped_filepath)\n",
    "\n",
    "    # transcoding\n",
    "    transcoded_img = np.vectorize(transcode)(cropped_img)\n",
    "    save_to_tiff(transcoded_img, transcoded_filepath)\n",
    "\n",
    "    # remove invalid pixels\n",
    "    filter_band = load_from_npy(interpolated_filepath)\n",
    "    y = transcoded_img[filter_band]\n",
    "\n",
    "    # output preprocessed data\n",
    "    save_to_npy(y, final_out_filepath)"
   ]
  },
  {
   "cell_type": "code",
   "execution_count": null,
   "metadata": {
    "ExecuteTime": {
     "end_time": "2020-01-09T06:36:15.105776Z",
     "start_time": "2020-01-09T06:35:35.496690Z"
    }
   },
   "outputs": [],
   "source": [
    "for site, year in SITE_YEAR_TUPLE:\n",
    "    data_dir = DATA_DIR_TEMPLATE.format(site=site)\n",
    "    filename = list(filter(lambda x: x[4:8] == year, os.listdir(data_dir)))[0]\n",
    "    data_path = os.path.join(data_dir, filename)\n",
    "    logger.info(\"Processing:\" site, filename)\n",
    "    preprocess_cdl(\n",
    "        data_path=data_path,\n",
    "        cropped_filepath=CROPPED_FILEPATH_TEMPLATE.format(\n",
    "            site=site, year=year\n",
    "        ),\n",
    "        transcoded_filepath=TRANSCODED_FILEPATH_TEMPLATE.format(\n",
    "            site=site, year=year\n",
    "        ),\n",
    "        interpolated_filepath=INTERPOLATED_FILEPATH_TEMPLATE.format(\n",
    "            site=site, year=year\n",
    "        ),\n",
    "        final_out_filepath=FINAL_OUT_FILEPATH_TEMPLATE.format(\n",
    "            site=site, year=year\n",
    "        )\n",
    "    )"
   ]
  }
 ],
 "metadata": {
  "kernelspec": {
   "display_name": "Python 3",
   "language": "python",
   "name": "python3"
  },
  "language_info": {
   "codemirror_mode": {
    "name": "ipython",
    "version": 3
   },
   "file_extension": ".py",
   "mimetype": "text/x-python",
   "name": "python",
   "nbconvert_exporter": "python",
   "pygments_lexer": "ipython3",
   "version": "3.5.2"
  },
  "toc": {
   "base_numbering": 1,
   "nav_menu": {},
   "number_sections": true,
   "sideBar": true,
   "skip_h1_title": false,
   "title_cell": "Table of Contents",
   "title_sidebar": "Contents",
   "toc_cell": false,
   "toc_position": {
    "height": "calc(100% - 180px)",
    "left": "10px",
    "top": "150px",
    "width": "231px"
   },
   "toc_section_display": true,
   "toc_window_display": true
  }
 },
 "nbformat": 4,
 "nbformat_minor": 2
}
