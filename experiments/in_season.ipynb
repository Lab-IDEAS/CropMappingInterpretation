{
 "cells": [
  {
   "cell_type": "code",
   "execution_count": null,
   "metadata": {
    "ExecuteTime": {
     "end_time": "2021-03-24T16:24:00.311848Z",
     "start_time": "2021-03-24T16:24:00.308073Z"
    }
   },
   "outputs": [],
   "source": [
    "import os\n",
    "import sys\n",
    "module_path = os.path.abspath(os.path.join(\"..\"))\n",
    "if module_path not in sys.path:\n",
    "    sys.path.append(module_path)"
   ]
  },
  {
   "cell_type": "code",
   "execution_count": null,
   "metadata": {
    "ExecuteTime": {
     "end_time": "2021-03-24T16:24:03.352186Z",
     "start_time": "2021-03-24T16:24:00.314871Z"
    }
   },
   "outputs": [],
   "source": [
    "import numpy as np\n",
    "from sklearn.metrics import accuracy_score\n",
    "import torch\n",
    "import torch.nn as nn\n",
    "from utils.logger import PrettyLogger\n",
    "from utils.io_func import save_to_csv, save_to_pkl, save_to_pth\n",
    "from config import SEED\n",
    "from utils.helper import LSTMHelper"
   ]
  },
  {
   "cell_type": "code",
   "execution_count": null,
   "metadata": {
    "ExecuteTime": {
     "end_time": "2021-03-24T16:24:03.357016Z",
     "start_time": "2021-03-24T16:24:03.354493Z"
    }
   },
   "outputs": [],
   "source": [
    "logger = PrettyLogger()\n",
    "helper = LSTMHelper()"
   ]
  },
  {
   "cell_type": "code",
   "execution_count": null,
   "metadata": {
    "ExecuteTime": {
     "end_time": "2021-03-24T16:24:03.366689Z",
     "start_time": "2021-03-24T16:24:03.358710Z"
    }
   },
   "outputs": [],
   "source": [
    "TIME_STEP_LIST = range(1, 23)\n",
    "TRAIN_YEARS = [str(year) for year in [2015, 2016, 2017]]\n",
    "TEST_YEARS = [str(year) for year in [2018]]\n",
    "DATA_DIR = \"../preprocessing/out/Site_1/\"\n",
    "X_PATH_TEMPLATE = os.path.join(DATA_DIR, \"x-corn_soybean-{year}.npy\")\n",
    "Y_PATH_TEMPLATE = os.path.join(DATA_DIR, \"y-corn_soybean-{year}.npy\")\n",
    "RESULT_DIR_TEMPLATE = (\n",
    "    \"./out/in_season/AtLSTM-corn_soybean/time_step_{time_step}/\"\n",
    ")\n",
    "DEVICE = torch.device(\"cuda:0\")"
   ]
  },
  {
   "cell_type": "markdown",
   "metadata": {},
   "source": [
    "# Preparation"
   ]
  },
  {
   "cell_type": "code",
   "execution_count": null,
   "metadata": {
    "ExecuteTime": {
     "end_time": "2021-03-24T16:24:03.375447Z",
     "start_time": "2021-03-24T16:24:03.368299Z"
    }
   },
   "outputs": [],
   "source": [
    "def get_paths(path_template, years):\n",
    "    return [path_template.format(year=year) for year in years]"
   ]
  },
  {
   "cell_type": "code",
   "execution_count": null,
   "metadata": {
    "ExecuteTime": {
     "end_time": "2021-03-24T16:24:03.386876Z",
     "start_time": "2021-03-24T16:24:03.377789Z"
    }
   },
   "outputs": [],
   "source": [
    "def save_all(\n",
    "    result_dir,\n",
    "    y_train_soft_pred, y_test_soft_pred, y_train_hard_pred, y_test_hard_pred,\n",
    "    attn_train, attn_test,\n",
    "    loss_train_list, loss_test_list, acc_train_list, acc_test_list,\n",
    "    acc_train, acc_test,\n",
    "    scaler, net\n",
    "):\n",
    "    save_to_csv(\n",
    "        y_train_soft_pred, os.path.join(result_dir, \"y_train_soft_pred.csv\")\n",
    "    )\n",
    "    save_to_csv(\n",
    "        y_test_soft_pred, os.path.join(result_dir, \"y_test_soft_pred.csv\")\n",
    "    )\n",
    "    save_to_csv(\n",
    "        y_train_hard_pred, os.path.join(result_dir, \"y_train_hard_pred.csv\")\n",
    "    )\n",
    "    save_to_csv(\n",
    "        y_test_hard_pred, os.path.join(result_dir, \"y_test_hard_pred.csv\")\n",
    "    )\n",
    "    save_to_csv(\n",
    "        attn_train, os.path.join(result_dir, \"attn_train.csv\")\n",
    "    )\n",
    "    save_to_csv(\n",
    "        attn_test, os.path.join(result_dir, \"attn_test.csv\")\n",
    "    )\n",
    "    save_to_csv(\n",
    "        np.array([\n",
    "            loss_train_list, loss_test_list, acc_train_list, acc_test_list\n",
    "        ]).T,\n",
    "        os.path.join(result_dir, \"training_record.csv\"),\n",
    "        header=[\"training loss\", \"test loss\", \"training acc\", \"test acc\"]\n",
    "    )\n",
    "    save_to_csv(\n",
    "        np.array([[acc_train, acc_test]]),\n",
    "        os.path.join(result_dir, \"perf_abstract.csv\"),\n",
    "        header=[\"acc_train\", \"acc_test\"]\n",
    "    )\n",
    "    save_to_pkl(scaler, os.path.join(result_dir, \"scaler.pkl\"))\n",
    "    save_to_pth(net, os.path.join(result_dir, \"atlstm.pth\"))"
   ]
  },
  {
   "cell_type": "markdown",
   "metadata": {},
   "source": [
    "# Training"
   ]
  },
  {
   "cell_type": "code",
   "execution_count": null,
   "metadata": {
    "ExecuteTime": {
     "end_time": "2021-03-24T16:29:17.387658Z",
     "start_time": "2021-03-24T16:24:03.388842Z"
    }
   },
   "outputs": [],
   "source": [
    "for time_step in TIME_STEP_LIST:\n",
    "    logger.info(\"Time step {} starts\".format(time_step))\n",
    "    \n",
    "    # input\n",
    "    x_train = helper.input_x(get_paths(X_PATH_TEMPLATE, TRAIN_YEARS))[\n",
    "        :, :time_step, :\n",
    "    ]\n",
    "    y_train = helper.input_y(get_paths(Y_PATH_TEMPLATE, TRAIN_YEARS))\n",
    "    x_test = helper.input_x(get_paths(X_PATH_TEMPLATE, TEST_YEARS))[\n",
    "        :, :time_step, :\n",
    "    ]\n",
    "    y_test = helper.input_y(get_paths(Y_PATH_TEMPLATE, TEST_YEARS))\n",
    "    \n",
    "    # normalization\n",
    "    scaler, x_train, x_test = helper.normalize_without_scaler(x_train, x_test)\n",
    "    \n",
    "    # training preparation\n",
    "    train_dataloader = helper.make_data_loader(x_train, y_train, shuffle=True)\n",
    "    test_dataloader = helper.make_data_loader(x_test, y_test, shuffle=False)\n",
    "\n",
    "    net = helper.build_model()\n",
    "    helper.init_parameters(net)\n",
    "    net = nn.DataParallel(net, device_ids=[0, 1, 2, 3])\n",
    "    net.to(DEVICE)\n",
    "    \n",
    "    # training\n",
    "    loss_train_list, acc_train_list, attn_train_list = [], [], []\n",
    "    loss_test_list, acc_test_list, attn_test_list = [], [], []\n",
    "    helper.train_model(\n",
    "        net, train_dataloader, test_dataloader, DEVICE, logger,\n",
    "        loss_train_list, acc_train_list, attn_train_list,\n",
    "        loss_test_list, acc_test_list, attn_test_list,\n",
    "    )\n",
    "    \n",
    "    # prediction\n",
    "    y_train_soft_pred, y_train_hard_pred, attn_train = helper.predict(\n",
    "        net, helper.make_data_loader(x_train, y_train, shuffle=False), DEVICE\n",
    "    )\n",
    "    y_test_soft_pred, y_test_hard_pred, attn_test = helper.predict(\n",
    "        net, test_dataloader, DEVICE\n",
    "    )\n",
    "    acc_train = accuracy_score(y_train, y_train_hard_pred)\n",
    "    acc_test = accuracy_score(y_test, y_test_hard_pred)\n",
    "    logger.info(\"train acc:\", acc_train, \"test acc:\", acc_test)\n",
    "    \n",
    "    save_all(\n",
    "        RESULT_DIR_TEMPLATE.format(time_step=time_step),\n",
    "        y_train_soft_pred, y_test_soft_pred,\n",
    "        y_train_hard_pred, y_test_hard_pred,\n",
    "        attn_train, attn_test,\n",
    "        loss_train_list, loss_test_list, acc_train_list, acc_test_list,\n",
    "        acc_train, acc_test,\n",
    "        scaler, net\n",
    "    )\n",
    "    \n",
    "    logger.info(\"Time step {} ends\".format(time_step))"
   ]
  }
 ],
 "metadata": {
  "kernelspec": {
   "display_name": "Python 3",
   "language": "python",
   "name": "python3"
  },
  "language_info": {
   "codemirror_mode": {
    "name": "ipython",
    "version": 3
   },
   "file_extension": ".py",
   "mimetype": "text/x-python",
   "name": "python",
   "nbconvert_exporter": "python",
   "pygments_lexer": "ipython3",
   "version": "3.5.2"
  },
  "toc": {
   "base_numbering": 1,
   "nav_menu": {},
   "number_sections": true,
   "sideBar": true,
   "skip_h1_title": false,
   "title_cell": "Table of Contents",
   "title_sidebar": "Contents",
   "toc_cell": false,
   "toc_position": {
    "height": "calc(100% - 180px)",
    "left": "10px",
    "top": "150px",
    "width": "300px"
   },
   "toc_section_display": true,
   "toc_window_display": true
  }
 },
 "nbformat": 4,
 "nbformat_minor": 2
}
