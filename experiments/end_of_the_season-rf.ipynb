{
 "cells": [
  {
   "cell_type": "code",
   "execution_count": null,
   "metadata": {
    "ExecuteTime": {
     "end_time": "2021-03-24T16:34:53.107467Z",
     "start_time": "2021-03-24T16:34:53.103654Z"
    }
   },
   "outputs": [],
   "source": [
    "import os\n",
    "import sys\n",
    "module_path = os.path.abspath(os.path.join(\"..\"))\n",
    "if module_path not in sys.path:\n",
    "    sys.path.append(module_path)"
   ]
  },
  {
   "cell_type": "code",
   "execution_count": null,
   "metadata": {
    "ExecuteTime": {
     "end_time": "2021-03-24T16:34:56.186783Z",
     "start_time": "2021-03-24T16:34:53.109927Z"
    }
   },
   "outputs": [],
   "source": [
    "import numpy as np\n",
    "import pandas as pd\n",
    "from sklearn.metrics import accuracy_score\n",
    "from utils.logger import PrettyLogger\n",
    "from utils.io_func import save_to_csv, save_to_pkl\n",
    "from utils.helper import RFHelper"
   ]
  },
  {
   "cell_type": "code",
   "execution_count": null,
   "metadata": {
    "ExecuteTime": {
     "end_time": "2021-03-24T16:34:56.194575Z",
     "start_time": "2021-03-24T16:34:56.190520Z"
    }
   },
   "outputs": [],
   "source": [
    "logger = PrettyLogger()\n",
    "helper = RFHelper()"
   ]
  },
  {
   "cell_type": "code",
   "execution_count": null,
   "metadata": {
    "ExecuteTime": {
     "end_time": "2021-03-24T16:34:56.210915Z",
     "start_time": "2021-03-24T16:34:56.197198Z"
    }
   },
   "outputs": [],
   "source": [
    "BASE_SITES = [\"Site_1\"]\n",
    "TRAIN_YEARS = [str(year) for year in [2015, 2016, 2017]]\n",
    "TEST_YEARS = [str(year) for year in [2018]]\n",
    "X_PATH_TEMPLATE = \"../preprocessing/out/{site}/x-corn_soybean-{year}.npy\"\n",
    "Y_PATH_TEMPLATE = \"../preprocessing/out/{site}/y-corn_soybean-{year}.npy\"\n",
    "RESULT_DIR = \"./out/end_of_the_season/RF-corn_soybean/{}/\".format(\n",
    "    \"_\".join(BASE_SITES)\n",
    ")"
   ]
  },
  {
   "cell_type": "markdown",
   "metadata": {},
   "source": [
    "# Input"
   ]
  },
  {
   "cell_type": "code",
   "execution_count": null,
   "metadata": {
    "ExecuteTime": {
     "end_time": "2021-03-24T16:35:13.055326Z",
     "start_time": "2021-03-24T16:34:56.214252Z"
    }
   },
   "outputs": [],
   "source": [
    "def get_paths(path_template, sites, years):\n",
    "    paths = []\n",
    "    for site in sites:\n",
    "        for year in years:\n",
    "            paths.append(path_template.format(site=site, year=year))\n",
    "    return paths\n",
    "\n",
    "\n",
    "x_train = helper.input_x(get_paths(X_PATH_TEMPLATE, BASE_SITES, TRAIN_YEARS))\n",
    "y_train = helper.input_y(get_paths(Y_PATH_TEMPLATE, BASE_SITES, TRAIN_YEARS))\n",
    "x_test = helper.input_x(get_paths(X_PATH_TEMPLATE, BASE_SITES, TEST_YEARS))\n",
    "y_test = helper.input_y(get_paths(Y_PATH_TEMPLATE, BASE_SITES, TEST_YEARS))"
   ]
  },
  {
   "cell_type": "markdown",
   "metadata": {},
   "source": [
    "# Normalization"
   ]
  },
  {
   "cell_type": "code",
   "execution_count": null,
   "metadata": {
    "ExecuteTime": {
     "end_time": "2021-03-24T16:35:34.686433Z",
     "start_time": "2021-03-24T16:35:13.058502Z"
    }
   },
   "outputs": [],
   "source": [
    "scaler, x_train, x_test = helper.normalize_without_scaler(x_train, x_test)"
   ]
  },
  {
   "cell_type": "markdown",
   "metadata": {},
   "source": [
    "# Training models"
   ]
  },
  {
   "cell_type": "code",
   "execution_count": null,
   "metadata": {
    "ExecuteTime": {
     "end_time": "2021-03-24T16:47:19.270204Z",
     "start_time": "2021-03-24T16:35:34.689129Z"
    },
    "scrolled": true
   },
   "outputs": [],
   "source": [
    "rf = helper.build_model()\n",
    "helper.train_model(rf, x_train, y_train)"
   ]
  },
  {
   "cell_type": "markdown",
   "metadata": {},
   "source": [
    "# Prediction"
   ]
  },
  {
   "cell_type": "code",
   "execution_count": null,
   "metadata": {
    "ExecuteTime": {
     "end_time": "2021-03-24T16:48:28.609984Z",
     "start_time": "2021-03-24T16:47:19.274114Z"
    }
   },
   "outputs": [],
   "source": [
    "y_train_soft_pred, y_train_hard_pred = helper.predict(rf, x_train)\n",
    "y_test_soft_pred, y_test_hard_pred = helper.predict(rf, x_test)\n",
    "acc_train = accuracy_score(y_train, y_train_hard_pred)\n",
    "acc_test = accuracy_score(y_test, y_test_hard_pred)\n",
    "logger.info(\"training acc:\", acc_train, \"test acc:\", acc_test)"
   ]
  },
  {
   "cell_type": "markdown",
   "metadata": {
    "ExecuteTime": {
     "end_time": "2019-02-11T14:53:06.946338Z",
     "start_time": "2019-02-11T14:53:06.941006Z"
    }
   },
   "source": [
    "# Saving all"
   ]
  },
  {
   "cell_type": "code",
   "execution_count": null,
   "metadata": {
    "ExecuteTime": {
     "end_time": "2021-03-24T16:49:35.693769Z",
     "start_time": "2021-03-24T16:48:28.612188Z"
    }
   },
   "outputs": [],
   "source": [
    "save_to_csv(\n",
    "    y_train_soft_pred, os.path.join(RESULT_DIR, \"y_train_soft_pred.csv\")\n",
    ")\n",
    "save_to_csv(\n",
    "    y_test_soft_pred, os.path.join(RESULT_DIR, \"y_test_soft_pred.csv\")\n",
    ")\n",
    "save_to_csv(\n",
    "    y_train_hard_pred, os.path.join(RESULT_DIR, \"y_train_hard_pred.csv\")\n",
    ")\n",
    "save_to_csv(\n",
    "    y_test_hard_pred, os.path.join(RESULT_DIR, \"y_test_hard_pred.csv\")\n",
    ")\n",
    "save_to_csv(\n",
    "    np.array([[acc_train, acc_test]]),\n",
    "    os.path.join(RESULT_DIR, \"perf_abstract.csv\"),\n",
    "    header=[\"acc_train\", \"acc_test\"]\n",
    ")\n",
    "save_to_pkl(scaler, os.path.join(RESULT_DIR, \"scaler.pkl\"))\n",
    "save_to_pkl(rf, os.path.join(RESULT_DIR, \"rf.pkl\"))\n",
    "save_to_csv(\n",
    "    helper.train_time_list,\n",
    "    os.path.join(RESULT_DIR, \"train_time.csv\"),\n",
    "    header=[\"train_start_time\", \"train_end_time\", \"duration\"]\n",
    ")\n",
    "save_to_csv(\n",
    "    helper.test_time_list,\n",
    "    os.path.join(RESULT_DIR, \"test_time.csv\"),\n",
    "    header=[\"test_start_time\", \"test_end_time\", \"duration\"]\n",
    ")"
   ]
  }
 ],
 "metadata": {
  "kernelspec": {
   "display_name": "Python 3",
   "language": "python",
   "name": "python3"
  },
  "language_info": {
   "codemirror_mode": {
    "name": "ipython",
    "version": 3
   },
   "file_extension": ".py",
   "mimetype": "text/x-python",
   "name": "python",
   "nbconvert_exporter": "python",
   "pygments_lexer": "ipython3",
   "version": "3.5.2"
  },
  "toc": {
   "base_numbering": 1,
   "nav_menu": {
    "height": "135px",
    "width": "200px"
   },
   "number_sections": true,
   "sideBar": true,
   "skip_h1_title": false,
   "title_cell": "Table of Contents",
   "title_sidebar": "Contents",
   "toc_cell": false,
   "toc_position": {
    "height": "calc(100% - 180px)",
    "left": "10px",
    "top": "150px",
    "width": "264px"
   },
   "toc_section_display": true,
   "toc_window_display": true
  }
 },
 "nbformat": 4,
 "nbformat_minor": 2
}
