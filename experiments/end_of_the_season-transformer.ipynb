{
 "cells": [
  {
   "cell_type": "code",
   "execution_count": null,
   "metadata": {
    "ExecuteTime": {
     "end_time": "2021-03-24T14:48:07.917262Z",
     "start_time": "2021-03-24T14:48:07.913420Z"
    }
   },
   "outputs": [],
   "source": [
    "import os\n",
    "import sys\n",
    "module_path = os.path.abspath(os.path.join(\"..\"))\n",
    "if module_path not in sys.path:\n",
    "    sys.path.append(module_path)"
   ]
  },
  {
   "cell_type": "code",
   "execution_count": null,
   "metadata": {
    "ExecuteTime": {
     "end_time": "2021-03-24T14:48:11.437140Z",
     "start_time": "2021-03-24T14:48:07.920167Z"
    }
   },
   "outputs": [],
   "source": [
    "import numpy as np\n",
    "import pandas as pd\n",
    "from sklearn.metrics import accuracy_score\n",
    "import torch\n",
    "import torch.nn as nn\n",
    "from utils.logger import PrettyLogger\n",
    "from utils.io_func import save_to_csv, save_to_pkl, save_to_pth\n",
    "from utils.helper import TransformerHelper"
   ]
  },
  {
   "cell_type": "code",
   "execution_count": null,
   "metadata": {
    "ExecuteTime": {
     "end_time": "2021-03-24T14:48:11.444949Z",
     "start_time": "2021-03-24T14:48:11.441148Z"
    }
   },
   "outputs": [],
   "source": [
    "logger = PrettyLogger()\n",
    "helper = TransformerHelper()"
   ]
  },
  {
   "cell_type": "code",
   "execution_count": null,
   "metadata": {
    "ExecuteTime": {
     "end_time": "2021-03-24T14:48:11.454013Z",
     "start_time": "2021-03-24T14:48:11.448064Z"
    }
   },
   "outputs": [],
   "source": [
    "BASE_SITES = [\"Site_1\"]\n",
    "TRAIN_YEARS = [str(year) for year in [2015, 2016, 2017]]\n",
    "TEST_YEARS = [str(year) for year in [2018]]\n",
    "X_PATH_TEMPLATE = \"../preprocessing/out/{site}/x-corn_soybean-{year}.npy\"\n",
    "Y_PATH_TEMPLATE = \"../preprocessing/out/{site}/y-corn_soybean-{year}.npy\"\n",
    "RESULT_DIR = \"./out/end_of_the_season/Transformer-corn_soybean/{}/\".format(\n",
    "    \"_\".join(BASE_SITES)\n",
    ")\n",
    "DEVICE = torch.device(\"cuda:0\")"
   ]
  },
  {
   "cell_type": "markdown",
   "metadata": {},
   "source": [
    "# Input"
   ]
  },
  {
   "cell_type": "code",
   "execution_count": null,
   "metadata": {
    "ExecuteTime": {
     "end_time": "2021-03-24T14:48:28.825474Z",
     "start_time": "2021-03-24T14:48:11.457212Z"
    }
   },
   "outputs": [],
   "source": [
    "def get_paths(path_template, sites, years):\n",
    "    paths = []\n",
    "    for site in sites:\n",
    "        for year in years:\n",
    "            paths.append(path_template.format(site=site, year=year))\n",
    "    return paths\n",
    "\n",
    "\n",
    "x_train = helper.input_x(get_paths(X_PATH_TEMPLATE, BASE_SITES, TRAIN_YEARS))\n",
    "y_train = helper.input_y(get_paths(Y_PATH_TEMPLATE, BASE_SITES, TRAIN_YEARS))\n",
    "x_test = helper.input_x(get_paths(X_PATH_TEMPLATE, BASE_SITES, TEST_YEARS))\n",
    "y_test = helper.input_y(get_paths(Y_PATH_TEMPLATE, BASE_SITES, TEST_YEARS))"
   ]
  },
  {
   "cell_type": "markdown",
   "metadata": {},
   "source": [
    "# Normalization"
   ]
  },
  {
   "cell_type": "code",
   "execution_count": null,
   "metadata": {
    "ExecuteTime": {
     "end_time": "2021-03-24T14:48:35.989176Z",
     "start_time": "2021-03-24T14:48:28.829417Z"
    }
   },
   "outputs": [],
   "source": [
    "scaler, x_train, x_test = helper.normalize_without_scaler(x_train, x_test)"
   ]
  },
  {
   "cell_type": "markdown",
   "metadata": {},
   "source": [
    "# Training models"
   ]
  },
  {
   "cell_type": "code",
   "execution_count": null,
   "metadata": {
    "ExecuteTime": {
     "end_time": "2021-03-24T15:05:41.638216Z",
     "start_time": "2021-03-24T14:48:35.992220Z"
    }
   },
   "outputs": [],
   "source": [
    "train_dataloader = helper.make_data_loader(x_train, y_train, shuffle=True)\n",
    "test_dataloader = helper.make_data_loader(x_test, y_test, shuffle=False)\n",
    "\n",
    "net = helper.build_model()\n",
    "net = nn.DataParallel(net, device_ids=[0, 1, 2, 3])\n",
    "net.to(DEVICE)\n",
    "\n",
    "loss_train_list, acc_train_list = [], []\n",
    "loss_test_list, acc_test_list = [], []\n",
    "helper.train_model(\n",
    "    net, train_dataloader, test_dataloader, DEVICE, logger,\n",
    "    loss_train_list, acc_train_list, loss_test_list, acc_test_list,\n",
    ")"
   ]
  },
  {
   "cell_type": "markdown",
   "metadata": {},
   "source": [
    "# Prediction"
   ]
  },
  {
   "cell_type": "code",
   "execution_count": null,
   "metadata": {
    "ExecuteTime": {
     "end_time": "2021-03-24T15:08:43.945515Z",
     "start_time": "2021-03-24T15:06:12.175252Z"
    }
   },
   "outputs": [],
   "source": [
    "y_train_soft_pred, y_train_hard_pred = helper.predict(\n",
    "    net, helper.make_data_loader(x_train, y_train, shuffle=False), DEVICE\n",
    ")\n",
    "y_test_soft_pred, y_test_hard_pred = helper.predict(\n",
    "    net, test_dataloader, DEVICE\n",
    ")\n",
    "acc_train = accuracy_score(y_train, y_train_hard_pred)\n",
    "acc_test = accuracy_score(y_test, y_test_hard_pred)\n",
    "logger.info(\"training acc:\", acc_train, \"test acc:\", acc_test)"
   ]
  },
  {
   "cell_type": "markdown",
   "metadata": {},
   "source": [
    "# Saving all"
   ]
  },
  {
   "cell_type": "code",
   "execution_count": null,
   "metadata": {
    "ExecuteTime": {
     "end_time": "2021-03-24T15:15:18.719009Z",
     "start_time": "2021-03-24T15:15:14.366731Z"
    }
   },
   "outputs": [],
   "source": [
    "save_to_csv(\n",
    "    y_train_soft_pred, os.path.join(RESULT_DIR, \"y_train_soft_pred.csv\")\n",
    ")\n",
    "save_to_csv(\n",
    "    y_test_soft_pred, os.path.join(RESULT_DIR, \"y_test_soft_pred.csv\")\n",
    ")\n",
    "save_to_csv(\n",
    "    y_train_hard_pred, os.path.join(RESULT_DIR, \"y_train_hard_pred.csv\")\n",
    ")\n",
    "save_to_csv(\n",
    "    y_test_hard_pred, os.path.join(RESULT_DIR, \"y_test_hard_pred.csv\")\n",
    ")\n",
    "save_to_csv(\n",
    "    np.array([\n",
    "        loss_train_list, loss_test_list, acc_train_list, acc_test_list\n",
    "    ]).T,\n",
    "    os.path.join(RESULT_DIR, \"training_record.csv\"),\n",
    "    header=[\"training loss\", \"test loss\", \"training acc\", \"test acc\"]\n",
    ")\n",
    "save_to_csv(\n",
    "    np.array([[acc_train, acc_test]]),\n",
    "    os.path.join(RESULT_DIR, \"perf_abstract.csv\"),\n",
    "    header=[\"acc_train\", \"acc_test\"]\n",
    ")\n",
    "save_to_pkl(scaler, os.path.join(RESULT_DIR, \"scaler.pkl\"))\n",
    "save_to_pth(net, os.path.join(RESULT_DIR, \"transformer.pth\"))\n",
    "save_to_csv(\n",
    "    helper.train_time_list,\n",
    "    os.path.join(RESULT_DIR, \"train_time.csv\"),\n",
    "    header=[\"train_start_time\", \"train_end_time\", \"duration\"]\n",
    ")\n",
    "save_to_csv(\n",
    "    helper.test_time_list,\n",
    "    os.path.join(RESULT_DIR, \"test_time.csv\"),\n",
    "    header=[\"test_start_time\", \"test_end_time\", \"duration\"]\n",
    ")"
   ]
  }
 ],
 "metadata": {
  "kernelspec": {
   "display_name": "Python 3",
   "language": "python",
   "name": "python3"
  },
  "language_info": {
   "codemirror_mode": {
    "name": "ipython",
    "version": 3
   },
   "file_extension": ".py",
   "mimetype": "text/x-python",
   "name": "python",
   "nbconvert_exporter": "python",
   "pygments_lexer": "ipython3",
   "version": "3.5.2"
  },
  "toc": {
   "base_numbering": 1,
   "nav_menu": {},
   "number_sections": true,
   "sideBar": true,
   "skip_h1_title": false,
   "title_cell": "Table of Contents",
   "title_sidebar": "Contents",
   "toc_cell": false,
   "toc_position": {
    "height": "calc(100% - 180px)",
    "left": "10px",
    "top": "150px",
    "width": "215px"
   },
   "toc_section_display": true,
   "toc_window_display": true
  }
 },
 "nbformat": 4,
 "nbformat_minor": 2
}
